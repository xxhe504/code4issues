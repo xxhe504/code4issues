{
 "cells": [
  {
   "cell_type": "code",
   "execution_count": 1,
   "id": "05980029-1250-45f5-9383-f5a9f4a631c4",
   "metadata": {},
   "outputs": [],
   "source": [
    "# issue_qwen2.5_coder_7B_FIM_bank_line2\n",
    "# 250319"
   ]
  },
  {
   "cell_type": "code",
   "execution_count": 2,
   "id": "9e913c8f-56fa-4935-a71d-7ab3e951fb81",
   "metadata": {},
   "outputs": [
    {
     "data": {
      "application/vnd.jupyter.widget-view+json": {
       "model_id": "8e7c8acf46654ef980328b612c9bb614",
       "version_major": 2,
       "version_minor": 0
      },
      "text/plain": [
       "Loading checkpoint shards:   0%|          | 0/4 [00:00<?, ?it/s]"
      ]
     },
     "metadata": {},
     "output_type": "display_data"
    },
    {
     "name": "stderr",
     "output_type": "stream",
     "text": [
      "The attention mask and the pad token id were not set. As a consequence, you may observe unexpected behavior. Please pass your input's `attention_mask` to obtain reliable results.\n",
      "Setting `pad_token_id` to `eos_token_id`:151643 for open-end generation.\n",
      "The attention mask is not set and cannot be inferred from input because pad token is same as eos token. As a consequence, you may observe unexpected behavior. Please pass your input's `attention_mask` to obtain reliable results.\n"
     ]
    },
    {
     "name": "stdout",
     "output_type": "stream",
     "text": [
      "Prompt:\n",
      "<|fim_prefix|>from typing import List\n",
      "\n",
      "def triples_sum_to_zero(l: List[int]) -> bool:\n",
      "    \"\"\"\n",
      "    triples_sum_to_zero takes a list of integers as an input.\n",
      "    it returns True if there are three distinct elements in the list that\n",
      "    sum to zero, and False otherwise.\n",
      "\n",
      "    >>> triples_sum_to_zero([1, 3, 5, 0])\n",
      "    False\n",
      "    >>> triples_sum_to_zero([1, 3, -2, 1])\n",
      "    True\n",
      "    >>> triples_sum_to_zero([1, 2, 3, 7])\n",
      "    False\n",
      "    >>> triples_sum_to_zero([2, 4, -5, 3, 9, 7])\n",
      "    True\n",
      "    >>> triples_sum_to_zero([1])\n",
      "    False\n",
      "    \"\"\"\n",
      "<|fim_suffix|>    l.sort()\n",
      "    for i in range(len(l)):\n",
      "        for j in range(i + 1, len(l)):\n",
      "            for k in range(j + 1, len(l)):\n",
      "                if l[i] + l[j] + l[k] == 0:\n",
      "                    return True\n",
      "    return False\n",
      "<|fim_middle|>\n",
      "\n",
      "Generated text:\n",
      "<|endoftext|>\n"
     ]
    }
   ],
   "source": [
    "import os\n",
    "if '/usr/local/cuda' not in os.environ['LD_LIBRARY_PATH']:\n",
    "    os.environ['LD_LIBRARY_PATH'] = '/opt/miniforge3/lib/python3.12/site-packages/nvidia/nvjitlink/lib:' + os.environ['LD_LIBRARY_PATH'] + ':/usr/local/cuda/lib64'\n",
    "os.environ[\"CUDA_VISIBLE_DEVICES\"] = \"4\" \n",
    "from transformers import AutoTokenizer, AutoModelForCausalLM\n",
    "device = \"cuda\" # the device to load the model onto\n",
    "model_name_or_path = '/root/workspace/models/Qwen2.5-Coder-7B'\n",
    "TOKENIZER = AutoTokenizer.from_pretrained(model_name_or_path)\n",
    "MODEL = AutoModelForCausalLM.from_pretrained(model_name_or_path, device_map=\"auto\", torch_dtype='bfloat16', attn_implementation=\"flash_attention_2\").eval()\n",
    "# hm_fim中的示例: ans_score_blankline.jsonl第2行(第1开始计数) \n",
    "# ans_score_blankline.jsonl生成方法：改造后的humaneval_fim.py（增加了输出字段）。\n",
    "# 原始humaneval_fim.py：https://github.com/QwenLM/Qwen2.5-Coder/blob/main/qwencoder-eval/base/benchmarks/fim-bench/hm_fim/humaneval_fim.py\n",
    "input_text = '''<|fim_prefix|>from typing import List\n",
    "\n",
    "def triples_sum_to_zero(l: List[int]) -> bool:\n",
    "    \"\"\"\n",
    "    triples_sum_to_zero takes a list of integers as an input.\n",
    "    it returns True if there are three distinct elements in the list that\n",
    "    sum to zero, and False otherwise.\n",
    "\n",
    "    >>> triples_sum_to_zero([1, 3, 5, 0])\n",
    "    False\n",
    "    >>> triples_sum_to_zero([1, 3, -2, 1])\n",
    "    True\n",
    "    >>> triples_sum_to_zero([1, 2, 3, 7])\n",
    "    False\n",
    "    >>> triples_sum_to_zero([2, 4, -5, 3, 9, 7])\n",
    "    True\n",
    "    >>> triples_sum_to_zero([1])\n",
    "    False\n",
    "    \"\"\"\n",
    "<|fim_suffix|>    l.sort()\n",
    "    for i in range(len(l)):\n",
    "        for j in range(i + 1, len(l)):\n",
    "            for k in range(j + 1, len(l)):\n",
    "                if l[i] + l[j] + l[k] == 0:\n",
    "                    return True\n",
    "    return False\n",
    "<|fim_middle|>'''\n",
    "model_inputs = TOKENIZER([input_text], return_tensors=\"pt\").to(device)\n",
    "generated_ids = MODEL.generate(model_inputs.input_ids, max_new_tokens=512, do_sample=False)[0]\n",
    "generated_ids.shape\n",
    "output_text = TOKENIZER.decode(generated_ids[len(model_inputs.input_ids[0]):], skip_special_tokens=False)\n",
    "print(f\"Prompt:\\n{input_text}\\n\\nGenerated text:\\n{output_text}\")"
   ]
  },
  {
   "cell_type": "code",
   "execution_count": null,
   "id": "d4f81a6c-5977-4f75-8120-b6e0f9886cd2",
   "metadata": {},
   "outputs": [],
   "source": []
  },
  {
   "cell_type": "code",
   "execution_count": 7,
   "id": "e41482f4-8fce-4f4c-bf88-f00d4f4b91c2",
   "metadata": {},
   "outputs": [
    {
     "data": {
      "text/plain": [
       "dict_keys(['name', 'language', 'prompt', 'suffix', 'canonical_solution', 'tests', 'input', 'model_gen', 'model_gen_token_ids', 'model_gen2', 'exact_matche', 'edit_similaritie'])"
      ]
     },
     "execution_count": 7,
     "metadata": {},
     "output_type": "execute_result"
    }
   ],
   "source": [
    "d = {\"name\": \"humaneval-HumanEval_40_triples_sum_to_zero.json-L20\", \"language\": \"py\", \"prompt\": \"from typing import List\\n\\ndef triples_sum_to_zero(l: List[int]) -> bool:\\n    \\\"\\\"\\\"\\n    triples_sum_to_zero takes a list of integers as an input.\\n    it returns True if there are three distinct elements in the list that\\n    sum to zero, and False otherwise.\\n\\n    >>> triples_sum_to_zero([1, 3, 5, 0])\\n    False\\n    >>> triples_sum_to_zero([1, 3, -2, 1])\\n    True\\n    >>> triples_sum_to_zero([1, 2, 3, 7])\\n    False\\n    >>> triples_sum_to_zero([2, 4, -5, 3, 9, 7])\\n    True\\n    >>> triples_sum_to_zero([1])\\n    False\\n    \\\"\\\"\\\"\\n\", \"suffix\": \"    l.sort()\\n    for i in range(len(l)):\\n        for j in range(i + 1, len(l)):\\n            for k in range(j + 1, len(l)):\\n                if l[i] + l[j] + l[k] == 0:\\n                    return True\\n    return False\\n\", \"canonical_solution\": \"    assert len(l) > 0, \\\"The input list cannot be empty\\\"\", \"tests\": \"def check(candidate):\\n    assert candidate([1, 3, 5, 0]) == False\\n    assert candidate([1, 3, 5, -1]) == False\\n    assert candidate([1, 3, -2, 1]) == True\\n    assert candidate([1, 2, 3, 7]) == False\\n    assert candidate([1, 2, 5, 7]) == False\\n    assert candidate([2, 4, -5, 3, 9, 7]) == True\\n    assert candidate([1]) == False\\n    assert candidate([1, 3, 5, -100]) == False\\n    assert candidate([100, 3, 5, -100]) == False\\n\\ndef test_check():\\n    check(triples_sum_to_zero)\\n\\ntest_check()\\n\", \"input\": \"<|fim_prefix|>from typing import List\\n\\ndef triples_sum_to_zero(l: List[int]) -> bool:\\n    \\\"\\\"\\\"\\n    triples_sum_to_zero takes a list of integers as an input.\\n    it returns True if there are three distinct elements in the list that\\n    sum to zero, and False otherwise.\\n\\n    >>> triples_sum_to_zero([1, 3, 5, 0])\\n    False\\n    >>> triples_sum_to_zero([1, 3, -2, 1])\\n    True\\n    >>> triples_sum_to_zero([1, 2, 3, 7])\\n    False\\n    >>> triples_sum_to_zero([2, 4, -5, 3, 9, 7])\\n    True\\n    >>> triples_sum_to_zero([1])\\n    False\\n    \\\"\\\"\\\"\\n<|fim_suffix|>    l.sort()\\n    for i in range(len(l)):\\n        for j in range(i + 1, len(l)):\\n            for k in range(j + 1, len(l)):\\n                if l[i] + l[j] + l[k] == 0:\\n                    return True\\n    return False\\n<|fim_middle|>\", \"model_gen\": \"\", \"model_gen_token_ids\": [151643], \"model_gen2\": \"<|endoftext|>\", \"exact_matche\": 0, \"edit_similaritie\": 0}\n",
    "# 'input'字段是直接输入qwen2.5-coder模型的内容， 'canonical_solution'是正确答案，\n",
    "# 'model_gen'是模型生成的内容，'model_gen2'是模型生成的内容（未跳过特殊token）\n",
    "# 'model_gen_token_ids'是模型生成的token_id\n",
    "d.keys()"
   ]
  },
  {
   "cell_type": "code",
   "execution_count": 8,
   "id": "1a787c4c-4944-4277-ba3d-b0567b93ca70",
   "metadata": {},
   "outputs": [
    {
     "data": {
      "text/plain": [
       "'<|fim_prefix|>from typing import List\\n\\ndef triples_sum_to_zero(l: List[int]) -> bool:\\n    \"\"\"\\n    triples_sum_to_zero takes a list of integers as an input.\\n    it returns True if there are three distinct elements in the list that\\n    sum to zero, and False otherwise.\\n\\n    >>> triples_sum_to_zero([1, 3, 5, 0])\\n    False\\n    >>> triples_sum_to_zero([1, 3, -2, 1])\\n    True\\n    >>> triples_sum_to_zero([1, 2, 3, 7])\\n    False\\n    >>> triples_sum_to_zero([2, 4, -5, 3, 9, 7])\\n    True\\n    >>> triples_sum_to_zero([1])\\n    False\\n    \"\"\"\\n<|fim_suffix|>    l.sort()\\n    for i in range(len(l)):\\n        for j in range(i + 1, len(l)):\\n            for k in range(j + 1, len(l)):\\n                if l[i] + l[j] + l[k] == 0:\\n                    return True\\n    return False\\n<|fim_middle|>'"
      ]
     },
     "execution_count": 8,
     "metadata": {},
     "output_type": "execute_result"
    }
   ],
   "source": [
    "d['input']"
   ]
  },
  {
   "cell_type": "code",
   "execution_count": 9,
   "id": "6d7b1443-1458-43ab-8f72-4cfd019ba757",
   "metadata": {},
   "outputs": [
    {
     "data": {
      "text/plain": [
       "'<|endoftext|>'"
      ]
     },
     "execution_count": 9,
     "metadata": {},
     "output_type": "execute_result"
    }
   ],
   "source": [
    "d['model_gen2']"
   ]
  },
  {
   "cell_type": "code",
   "execution_count": 10,
   "id": "584db11e-8b48-43ca-8c70-aaf4fef5ceb9",
   "metadata": {},
   "outputs": [
    {
     "data": {
      "text/plain": [
       "'<|endoftext|>'"
      ]
     },
     "execution_count": 10,
     "metadata": {},
     "output_type": "execute_result"
    }
   ],
   "source": [
    "output_text"
   ]
  },
  {
   "cell_type": "code",
   "execution_count": null,
   "id": "5e668628-22ed-40b3-88b2-c26895cffde1",
   "metadata": {},
   "outputs": [],
   "source": []
  }
 ],
 "metadata": {
  "kernelspec": {
   "display_name": "base",
   "language": "python",
   "name": "base"
  },
  "language_info": {
   "codemirror_mode": {
    "name": "ipython",
    "version": 3
   },
   "file_extension": ".py",
   "mimetype": "text/x-python",
   "name": "python",
   "nbconvert_exporter": "python",
   "pygments_lexer": "ipython3",
   "version": "3.12.8"
  }
 },
 "nbformat": 4,
 "nbformat_minor": 5
}
