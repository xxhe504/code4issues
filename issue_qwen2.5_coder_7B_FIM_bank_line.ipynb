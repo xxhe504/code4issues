{
 "cells": [
  {
   "cell_type": "code",
   "execution_count": 1,
   "id": "05980029-1250-45f5-9383-f5a9f4a631c4",
   "metadata": {},
   "outputs": [],
   "source": [
    "# issue_qwen2.5_coder_7B_FIM_bank_line\n",
    "# 250315"
   ]
  },
  {
   "cell_type": "code",
   "execution_count": 2,
   "id": "9e913c8f-56fa-4935-a71d-7ab3e951fb81",
   "metadata": {},
   "outputs": [
    {
     "data": {
      "application/vnd.jupyter.widget-view+json": {
       "model_id": "fc73563b3afc4333beb50fada7632303",
       "version_major": 2,
       "version_minor": 0
      },
      "text/plain": [
       "Loading checkpoint shards:   0%|          | 0/4 [00:00<?, ?it/s]"
      ]
     },
     "metadata": {},
     "output_type": "display_data"
    },
    {
     "name": "stderr",
     "output_type": "stream",
     "text": [
      "Some parameters are on the meta device because they were offloaded to the cpu.\n",
      "The attention mask and the pad token id were not set. As a consequence, you may observe unexpected behavior. Please pass your input's `attention_mask` to obtain reliable results.\n",
      "Setting `pad_token_id` to `eos_token_id`:151643 for open-end generation.\n",
      "The attention mask is not set and cannot be inferred from input because pad token is same as eos token. As a consequence, you may observe unexpected behavior. Please pass your input's `attention_mask` to obtain reliable results.\n"
     ]
    },
    {
     "name": "stdout",
     "output_type": "stream",
     "text": [
      "Prompt:\n",
      "<|fim_prefix|>//You have been tasked to write a function that receives \n",
      "// a hexadecimal number as a string and counts the number of hexadecimal \n",
      "// digits that are primes (prime number, or a prime, is a natural number \n",
      "// greater than 1 that is not a product of two smaller natural numbers).\n",
      "// Hexadecimal digits are 0, 1, 2, 3, 4, 5, 6, 7, 8, 9, A, B, C, D, E, F.\n",
      "// Prime numbers are 2, 3, 5, 7, 11, 13, 17,...\n",
      "// So you have to determine a number of the following digits: 2, 3, 5, 7, \n",
      "// B (=decimal 11), D (=decimal 13).\n",
      "// Note: you may assume the input is always correct or empty string, \n",
      "// and symbols A,B,C,D,E,F are always uppercase.\n",
      "// Examples:\n",
      "// >>> hex_key(\"AB\")\n",
      "// 1\n",
      "// >>> hex_key(\"1077E\")\n",
      "// 2\n",
      "// >>> hex_key(\"ABED1A33\")\n",
      "// 4\n",
      "// >>> hex_key(\"123456789ABCDEF0\")\n",
      "// 6\n",
      "// >>> hex_key(\"2020\")\n",
      "// 2\n",
      "function hex_key(num){\n",
      "    let result = 0;<|fim_suffix|>    let primes = ['2', '3', '5', '7', 'B', 'D'];\n",
      "    for(let x = 0; x < num.length; x++){\n",
      "        if(primes.includes(num[x])){\n",
      "            result += 1;\n",
      "        }\n",
      "    }\n",
      "    return result;\n",
      "}<|fim_middle|>\n",
      "\n",
      "Generated text:\n",
      "\n",
      "<|endoftext|>\n"
     ]
    }
   ],
   "source": [
    "import os\n",
    "if '/usr/local/cuda' not in os.environ['LD_LIBRARY_PATH']:\n",
    "    os.environ['LD_LIBRARY_PATH'] = '/opt/miniforge3/lib/python3.12/site-packages/nvidia/nvjitlink/lib:' + os.environ['LD_LIBRARY_PATH'] + ':/usr/local/cuda/lib64'\n",
    "os.environ[\"CUDA_VISIBLE_DEVICES\"] = \"4\" \n",
    "from transformers import AutoTokenizer, AutoModelForCausalLM\n",
    "device = \"cuda\" # the device to load the model onto\n",
    "model_name_or_path = '/root/workspace/models/Qwen2.5-Coder-7B'\n",
    "TOKENIZER = AutoTokenizer.from_pretrained(model_name_or_path)\n",
    "MODEL = AutoModelForCausalLM.from_pretrained(model_name_or_path, device_map=\"auto\", torch_dtype='bfloat16', attn_implementation=\"flash_attention_2\").eval()\n",
    "#hm_fim中的示例: Qwen2.5-Coder/qwencoder-eval/base/benchmarks/fim-bench/hm_fim/data/fim_singleline.jsonl第85行，humaneval-HumanEval_78_hex_key.json-L24 \n",
    "input_text = '''<|fim_prefix|>//You have been tasked to write a function that receives \n",
    "// a hexadecimal number as a string and counts the number of hexadecimal \n",
    "// digits that are primes (prime number, or a prime, is a natural number \n",
    "// greater than 1 that is not a product of two smaller natural numbers).\n",
    "// Hexadecimal digits are 0, 1, 2, 3, 4, 5, 6, 7, 8, 9, A, B, C, D, E, F.\n",
    "// Prime numbers are 2, 3, 5, 7, 11, 13, 17,...\n",
    "// So you have to determine a number of the following digits: 2, 3, 5, 7, \n",
    "// B (=decimal 11), D (=decimal 13).\n",
    "// Note: you may assume the input is always correct or empty string, \n",
    "// and symbols A,B,C,D,E,F are always uppercase.\n",
    "// Examples:\n",
    "// >>> hex_key(\"AB\")\n",
    "// 1\n",
    "// >>> hex_key(\"1077E\")\n",
    "// 2\n",
    "// >>> hex_key(\"ABED1A33\")\n",
    "// 4\n",
    "// >>> hex_key(\"123456789ABCDEF0\")\n",
    "// 6\n",
    "// >>> hex_key(\"2020\")\n",
    "// 2\n",
    "function hex_key(num){\n",
    "    let result = 0;<|fim_suffix|>    let primes = ['2', '3', '5', '7', 'B', 'D'];\n",
    "    for(let x = 0; x < num.length; x++){\n",
    "        if(primes.includes(num[x])){\n",
    "            result += 1;\n",
    "        }\n",
    "    }\n",
    "    return result;\n",
    "}<|fim_middle|>'''\n",
    "model_inputs = TOKENIZER([input_text], return_tensors=\"pt\").to(device)\n",
    "generated_ids = MODEL.generate(model_inputs.input_ids, max_new_tokens=512, do_sample=False)[0]\n",
    "generated_ids.shape\n",
    "output_text = TOKENIZER.decode(generated_ids[len(model_inputs.input_ids[0]):], skip_special_tokens=False)\n",
    "print(f\"Prompt:\\n{input_text}\\n\\nGenerated text:\\n{output_text}\")"
   ]
  },
  {
   "cell_type": "code",
   "execution_count": 3,
   "id": "584db11e-8b48-43ca-8c70-aaf4fef5ceb9",
   "metadata": {},
   "outputs": [
    {
     "data": {
      "text/plain": [
       "'\\n<|endoftext|>'"
      ]
     },
     "execution_count": 3,
     "metadata": {},
     "output_type": "execute_result"
    }
   ],
   "source": [
    "output_text"
   ]
  },
  {
   "cell_type": "code",
   "execution_count": null,
   "id": "5e668628-22ed-40b3-88b2-c26895cffde1",
   "metadata": {},
   "outputs": [],
   "source": []
  }
 ],
 "metadata": {
  "kernelspec": {
   "display_name": "base",
   "language": "python",
   "name": "base"
  },
  "language_info": {
   "codemirror_mode": {
    "name": "ipython",
    "version": 3
   },
   "file_extension": ".py",
   "mimetype": "text/x-python",
   "name": "python",
   "nbconvert_exporter": "python",
   "pygments_lexer": "ipython3",
   "version": "3.12.8"
  }
 },
 "nbformat": 4,
 "nbformat_minor": 5
}
